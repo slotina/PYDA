{
 "cells": [
  {
   "cell_type": "code",
   "execution_count": 63,
   "metadata": {},
   "outputs": [],
   "source": [
    "#замена вопросов на нан\n",
    "#df3=df3.replace(\"?\", \"NaN\")\n",
    "#df3\n",
    "#2 cпособ\n",
    "#df3.applymap(lambda x: np.nan if x == '?' else x)"
   ]
  },
  {
   "cell_type": "markdown",
   "metadata": {},
   "source": [
    "# Домашнее задание к лекции \"Базовые понятия статистики\""
   ]
  },
  {
   "cell_type": "code",
   "execution_count": 190,
   "metadata": {},
   "outputs": [],
   "source": [
    "#1\n",
    "import pandas as pd\n",
    "import numpy as np"
   ]
  },
  {
   "cell_type": "code",
   "execution_count": 191,
   "metadata": {},
   "outputs": [
    {
     "data": {
      "text/html": [
       "<div>\n",
       "<style scoped>\n",
       "    .dataframe tbody tr th:only-of-type {\n",
       "        vertical-align: middle;\n",
       "    }\n",
       "\n",
       "    .dataframe tbody tr th {\n",
       "        vertical-align: top;\n",
       "    }\n",
       "\n",
       "    .dataframe thead th {\n",
       "        text-align: right;\n",
       "    }\n",
       "</style>\n",
       "<table border=\"1\" class=\"dataframe\">\n",
       "  <thead>\n",
       "    <tr style=\"text-align: right;\">\n",
       "      <th></th>\n",
       "      <th>surgery?</th>\n",
       "      <th>Age</th>\n",
       "      <th>rectal temperature</th>\n",
       "      <th>pulse</th>\n",
       "      <th>respiratory rate</th>\n",
       "      <th>temperature of extremities</th>\n",
       "      <th>pain</th>\n",
       "      <th>outcome</th>\n",
       "    </tr>\n",
       "  </thead>\n",
       "  <tbody>\n",
       "    <tr>\n",
       "      <th>0</th>\n",
       "      <td>2.0</td>\n",
       "      <td>1</td>\n",
       "      <td>38.5</td>\n",
       "      <td>66.0</td>\n",
       "      <td>28.0</td>\n",
       "      <td>3.0</td>\n",
       "      <td>5.0</td>\n",
       "      <td>2.0</td>\n",
       "    </tr>\n",
       "    <tr>\n",
       "      <th>1</th>\n",
       "      <td>1.0</td>\n",
       "      <td>1</td>\n",
       "      <td>39.2</td>\n",
       "      <td>88.0</td>\n",
       "      <td>20.0</td>\n",
       "      <td>NaN</td>\n",
       "      <td>3.0</td>\n",
       "      <td>3.0</td>\n",
       "    </tr>\n",
       "    <tr>\n",
       "      <th>2</th>\n",
       "      <td>2.0</td>\n",
       "      <td>1</td>\n",
       "      <td>38.3</td>\n",
       "      <td>40.0</td>\n",
       "      <td>24.0</td>\n",
       "      <td>1.0</td>\n",
       "      <td>3.0</td>\n",
       "      <td>1.0</td>\n",
       "    </tr>\n",
       "    <tr>\n",
       "      <th>3</th>\n",
       "      <td>1.0</td>\n",
       "      <td>9</td>\n",
       "      <td>39.1</td>\n",
       "      <td>164.0</td>\n",
       "      <td>84.0</td>\n",
       "      <td>4.0</td>\n",
       "      <td>2.0</td>\n",
       "      <td>2.0</td>\n",
       "    </tr>\n",
       "    <tr>\n",
       "      <th>4</th>\n",
       "      <td>2.0</td>\n",
       "      <td>1</td>\n",
       "      <td>37.3</td>\n",
       "      <td>104.0</td>\n",
       "      <td>35.0</td>\n",
       "      <td>NaN</td>\n",
       "      <td>NaN</td>\n",
       "      <td>2.0</td>\n",
       "    </tr>\n",
       "  </tbody>\n",
       "</table>\n",
       "</div>"
      ],
      "text/plain": [
       "   surgery?  Age  rectal temperature  pulse  respiratory rate  \\\n",
       "0       2.0    1                38.5   66.0              28.0   \n",
       "1       1.0    1                39.2   88.0              20.0   \n",
       "2       2.0    1                38.3   40.0              24.0   \n",
       "3       1.0    9                39.1  164.0              84.0   \n",
       "4       2.0    1                37.3  104.0              35.0   \n",
       "\n",
       "   temperature of extremities  pain  outcome  \n",
       "0                         3.0   5.0      2.0  \n",
       "1                         NaN   3.0      3.0  \n",
       "2                         1.0   3.0      1.0  \n",
       "3                         4.0   2.0      2.0  \n",
       "4                         NaN   NaN      2.0  "
      ]
     },
     "execution_count": 191,
     "metadata": {},
     "output_type": "execute_result"
    }
   ],
   "source": [
    "df3 = pd.read_csv('https://raw.githubusercontent.com/obulygin/pyda_homeworks/master/statistics_basics/horse_data.csv', \n",
    "                 usecols=[0,1,3,4,5,6,10,22],names=['surgery?',  'Age', 'rectal temperature','pulse', 'respiratory rate',\n",
    "                    'temperature of extremities', 'pain','outcome'],na_values='?',\n",
    "                 header=None)\n",
    "\n",
    "# какие типы признаков в нашем датафрейме?\n",
    "df3.head()"
   ]
  },
  {
   "cell_type": "code",
   "execution_count": 192,
   "metadata": {},
   "outputs": [
    {
     "ename": "SyntaxError",
     "evalue": "invalid syntax (Temp/ipykernel_13836/3348447559.py, line 2)",
     "output_type": "error",
     "traceback": [
      "\u001b[1;36m  File \u001b[1;32m\"C:\\Users\\EA5B~1\\AppData\\Local\\Temp/ipykernel_13836/3348447559.py\"\u001b[1;36m, line \u001b[1;32m2\u001b[0m\n\u001b[1;33m    Задание 2. Первичное изучение данных\u001b[0m\n\u001b[1;37m            ^\u001b[0m\n\u001b[1;31mSyntaxError\u001b[0m\u001b[1;31m:\u001b[0m invalid syntax\n"
     ]
    }
   ],
   "source": [
    "#2\n",
    "Задание 2. Первичное изучение данных\n",
    "Проанализировать значения по столбцам, рассчитать базовые статистики, найти выбросы.\n"
   ]
  },
  {
   "cell_type": "code",
   "execution_count": 193,
   "metadata": {},
   "outputs": [
    {
     "data": {
      "text/html": [
       "<div>\n",
       "<style scoped>\n",
       "    .dataframe tbody tr th:only-of-type {\n",
       "        vertical-align: middle;\n",
       "    }\n",
       "\n",
       "    .dataframe tbody tr th {\n",
       "        vertical-align: top;\n",
       "    }\n",
       "\n",
       "    .dataframe thead th {\n",
       "        text-align: right;\n",
       "    }\n",
       "</style>\n",
       "<table border=\"1\" class=\"dataframe\">\n",
       "  <thead>\n",
       "    <tr style=\"text-align: right;\">\n",
       "      <th></th>\n",
       "      <th>surgery?</th>\n",
       "      <th>Age</th>\n",
       "      <th>rectal temperature</th>\n",
       "      <th>pulse</th>\n",
       "      <th>respiratory rate</th>\n",
       "      <th>temperature of extremities</th>\n",
       "      <th>pain</th>\n",
       "      <th>outcome</th>\n",
       "    </tr>\n",
       "  </thead>\n",
       "  <tbody>\n",
       "    <tr>\n",
       "      <th>count</th>\n",
       "      <td>299.000000</td>\n",
       "      <td>300.000000</td>\n",
       "      <td>240.000000</td>\n",
       "      <td>276.000000</td>\n",
       "      <td>242.000000</td>\n",
       "      <td>244.000000</td>\n",
       "      <td>245.00000</td>\n",
       "      <td>299.000000</td>\n",
       "    </tr>\n",
       "    <tr>\n",
       "      <th>mean</th>\n",
       "      <td>1.397993</td>\n",
       "      <td>1.640000</td>\n",
       "      <td>38.167917</td>\n",
       "      <td>71.913043</td>\n",
       "      <td>30.417355</td>\n",
       "      <td>2.348361</td>\n",
       "      <td>2.95102</td>\n",
       "      <td>1.551839</td>\n",
       "    </tr>\n",
       "    <tr>\n",
       "      <th>std</th>\n",
       "      <td>0.490305</td>\n",
       "      <td>2.173972</td>\n",
       "      <td>0.732289</td>\n",
       "      <td>28.630557</td>\n",
       "      <td>17.642231</td>\n",
       "      <td>1.045054</td>\n",
       "      <td>1.30794</td>\n",
       "      <td>0.737187</td>\n",
       "    </tr>\n",
       "    <tr>\n",
       "      <th>min</th>\n",
       "      <td>1.000000</td>\n",
       "      <td>1.000000</td>\n",
       "      <td>35.400000</td>\n",
       "      <td>30.000000</td>\n",
       "      <td>8.000000</td>\n",
       "      <td>1.000000</td>\n",
       "      <td>1.00000</td>\n",
       "      <td>1.000000</td>\n",
       "    </tr>\n",
       "    <tr>\n",
       "      <th>25%</th>\n",
       "      <td>1.000000</td>\n",
       "      <td>1.000000</td>\n",
       "      <td>37.800000</td>\n",
       "      <td>48.000000</td>\n",
       "      <td>18.500000</td>\n",
       "      <td>1.000000</td>\n",
       "      <td>2.00000</td>\n",
       "      <td>1.000000</td>\n",
       "    </tr>\n",
       "    <tr>\n",
       "      <th>50%</th>\n",
       "      <td>1.000000</td>\n",
       "      <td>1.000000</td>\n",
       "      <td>38.200000</td>\n",
       "      <td>64.000000</td>\n",
       "      <td>24.500000</td>\n",
       "      <td>3.000000</td>\n",
       "      <td>3.00000</td>\n",
       "      <td>1.000000</td>\n",
       "    </tr>\n",
       "    <tr>\n",
       "      <th>75%</th>\n",
       "      <td>2.000000</td>\n",
       "      <td>1.000000</td>\n",
       "      <td>38.500000</td>\n",
       "      <td>88.000000</td>\n",
       "      <td>36.000000</td>\n",
       "      <td>3.000000</td>\n",
       "      <td>4.00000</td>\n",
       "      <td>2.000000</td>\n",
       "    </tr>\n",
       "    <tr>\n",
       "      <th>max</th>\n",
       "      <td>2.000000</td>\n",
       "      <td>9.000000</td>\n",
       "      <td>40.800000</td>\n",
       "      <td>184.000000</td>\n",
       "      <td>96.000000</td>\n",
       "      <td>4.000000</td>\n",
       "      <td>5.00000</td>\n",
       "      <td>3.000000</td>\n",
       "    </tr>\n",
       "  </tbody>\n",
       "</table>\n",
       "</div>"
      ],
      "text/plain": [
       "         surgery?         Age  rectal temperature       pulse  \\\n",
       "count  299.000000  300.000000          240.000000  276.000000   \n",
       "mean     1.397993    1.640000           38.167917   71.913043   \n",
       "std      0.490305    2.173972            0.732289   28.630557   \n",
       "min      1.000000    1.000000           35.400000   30.000000   \n",
       "25%      1.000000    1.000000           37.800000   48.000000   \n",
       "50%      1.000000    1.000000           38.200000   64.000000   \n",
       "75%      2.000000    1.000000           38.500000   88.000000   \n",
       "max      2.000000    9.000000           40.800000  184.000000   \n",
       "\n",
       "       respiratory rate  temperature of extremities       pain     outcome  \n",
       "count        242.000000                  244.000000  245.00000  299.000000  \n",
       "mean          30.417355                    2.348361    2.95102    1.551839  \n",
       "std           17.642231                    1.045054    1.30794    0.737187  \n",
       "min            8.000000                    1.000000    1.00000    1.000000  \n",
       "25%           18.500000                    1.000000    2.00000    1.000000  \n",
       "50%           24.500000                    3.000000    3.00000    1.000000  \n",
       "75%           36.000000                    3.000000    4.00000    2.000000  \n",
       "max           96.000000                    4.000000    5.00000    3.000000  "
      ]
     },
     "execution_count": 193,
     "metadata": {},
     "output_type": "execute_result"
    }
   ],
   "source": [
    "df3.describe()"
   ]
  },
  {
   "cell_type": "code",
   "execution_count": 194,
   "metadata": {},
   "outputs": [
    {
     "name": "stdout",
     "output_type": "stream",
     "text": [
      "<class 'pandas.core.frame.DataFrame'>\n",
      "RangeIndex: 300 entries, 0 to 299\n",
      "Data columns (total 8 columns):\n",
      " #   Column                      Non-Null Count  Dtype  \n",
      "---  ------                      --------------  -----  \n",
      " 0   surgery?                    299 non-null    float64\n",
      " 1   Age                         300 non-null    int64  \n",
      " 2   rectal temperature          240 non-null    float64\n",
      " 3   pulse                       276 non-null    float64\n",
      " 4   respiratory rate            242 non-null    float64\n",
      " 5   temperature of extremities  244 non-null    float64\n",
      " 6   pain                        245 non-null    float64\n",
      " 7   outcome                     299 non-null    float64\n",
      "dtypes: float64(7), int64(1)\n",
      "memory usage: 18.9 KB\n"
     ]
    }
   ],
   "source": [
    "df3.info()"
   ]
  },
  {
   "cell_type": "code",
   "execution_count": 195,
   "metadata": {},
   "outputs": [],
   "source": [
    "#df3.columns[1]"
   ]
  },
  {
   "cell_type": "code",
   "execution_count": 196,
   "metadata": {},
   "outputs": [
    {
     "name": "stdout",
     "output_type": "stream",
     "text": [
      "------------------------- surgery? ----------------------------------------\n",
      "Уникальные значения [ 2.  1. nan]\n",
      "mean 1.3979933110367893\n",
      "median 1.0\n",
      "mode 1.0\n",
      "std 0.49030464432881815\n",
      "var 0.24039864425040888\n",
      "------------------------- Age ----------------------------------------\n",
      "Уникальные значения [1 9]\n",
      "mean 1.64\n",
      "median 1.0\n",
      "mode 1\n",
      "std 2.1739719055576163\n",
      "var 4.726153846153814\n",
      "------------------------- rectal temperature ----------------------------------------\n",
      "Уникальные значения [38.5 39.2 38.3 39.1 37.3  nan 37.9 38.1 37.2 38.  38.2 37.6 37.5 39.4\n",
      " 39.9 38.4 38.6 37.8 37.7 39.  35.4 38.9 37.4 40.3 37.  39.7 38.7 36.4\n",
      " 38.8 39.6 36.8 39.5 36.5 36.  37.1 39.3 36.1 36.6 40.8 36.9 40. ]\n",
      "mean 38.16791666666669\n",
      "median 38.2\n",
      "mode 38.0\n",
      "std 0.7322886641121578\n",
      "var 0.5362466875871686\n",
      "------------------------- pulse ----------------------------------------\n",
      "Уникальные значения [ 66.  88.  40. 164. 104.  nan  48.  60.  80.  90.  72.  42.  92.  76.\n",
      "  96. 128.  64. 110. 130. 108. 100. 112.  52. 146. 150. 120. 140.  84.\n",
      "  46. 114. 160.  54.  56.  38.  98.  50.  44.  70.  78.  49.  30. 136.\n",
      " 132.  65.  86. 129.  68.  36.  45. 124. 184.  75.  82.]\n",
      "mean 71.91304347826087\n",
      "median 64.0\n",
      "mode 48.0\n",
      "std 28.630556660735003\n",
      "var 819.7087747035575\n",
      "------------------------- respiratory rate ----------------------------------------\n",
      "Уникальные значения [28. 20. 24. 84. 35. nan 16. 36. 12. 52. 48. 21. 60. 34. 42. 30. 96. 72.\n",
      " 15. 44. 32. 22. 18. 80. 40. 10. 51. 68. 66.  9. 14. 90.  8. 23. 58. 13.\n",
      " 70. 26. 88. 25. 50.]\n",
      "mean 30.417355371900825\n",
      "median 24.5\n",
      "mode 20.0\n",
      "std 17.642231385134664\n",
      "var 311.24832824663054\n",
      "------------------------- temperature of extremities ----------------------------------------\n",
      "Уникальные значения [ 3. nan  1.  4.  2.]\n",
      "mean 2.348360655737705\n",
      "median 3.0\n",
      "mode 3.0\n",
      "std 1.0450536920112758\n",
      "var 1.0921372191863987\n",
      "------------------------- pain ----------------------------------------\n",
      "Уникальные значения [ 5.  3.  2. nan  4.  1.]\n",
      "mean 2.951020408163265\n",
      "median 3.0\n",
      "mode 3.0\n",
      "std 1.3079395711243502\n",
      "var 1.710705921712949\n",
      "------------------------- outcome ----------------------------------------\n",
      "Уникальные значения [ 2.  3.  1. nan]\n",
      "mean 1.5518394648829432\n",
      "median 1.0\n",
      "mode 1.0\n",
      "std 0.7371869448054933\n",
      "var 0.5434445915916574\n"
     ]
    }
   ],
   "source": [
    "for i in  df3.columns:\n",
    "    print ('-------------------------',i,'----------------------------------------')\n",
    "    print('Уникальные значения', df3[i].unique())\n",
    "    print('mean',df3[i].mean())\n",
    "    print('median',df3[i].median())\n",
    "    print('mode',df3[i].mode()[0])\n",
    "    print('std',df3[i].std())\n",
    "    print('var',df3[i].var())"
   ]
  },
  {
   "cell_type": "code",
   "execution_count": 25,
   "metadata": {},
   "outputs": [],
   "source": [
    "#Выбросы\n",
    "При текущем способе расчета выбросов у вас в них попадают все пропуски, что не совсем корректно. Вам стоило найти выбросы по данным без пропусков (например, сделав выборку по условию до расчета выбросов), результаты будут отличаться.\n",
    "\n",
    "При поиске выбросов расматриваете только два признака, в наших данных есть и другие количественные (линейные показатели), которые можно проанализировать. Для категориальных данных, можно изучить распределение и количество по категориям.\n",
    "\n",
    "При работе с пропусками мы можем оценивать долю пропусков от общего количества данных,\n",
    "Так как тут могут быть разные сценарии, например пропусков очень мало и нам может быть проще исключить данные из выборки, или пропусков очень много и тогда эту проблему нужно решать, от выяснения причин и гипотез почему они появились до обоснования чем их заполнить."
   ]
  },
  {
   "cell_type": "code",
   "execution_count": 197,
   "metadata": {},
   "outputs": [
    {
     "data": {
      "text/html": [
       "<div>\n",
       "<style scoped>\n",
       "    .dataframe tbody tr th:only-of-type {\n",
       "        vertical-align: middle;\n",
       "    }\n",
       "\n",
       "    .dataframe tbody tr th {\n",
       "        vertical-align: top;\n",
       "    }\n",
       "\n",
       "    .dataframe thead th {\n",
       "        text-align: right;\n",
       "    }\n",
       "</style>\n",
       "<table border=\"1\" class=\"dataframe\">\n",
       "  <thead>\n",
       "    <tr style=\"text-align: right;\">\n",
       "      <th></th>\n",
       "      <th>surgery?</th>\n",
       "      <th>Age</th>\n",
       "      <th>rectal temperature</th>\n",
       "      <th>pulse</th>\n",
       "      <th>respiratory rate</th>\n",
       "      <th>temperature of extremities</th>\n",
       "      <th>pain</th>\n",
       "      <th>outcome</th>\n",
       "    </tr>\n",
       "  </thead>\n",
       "  <tbody>\n",
       "    <tr>\n",
       "      <th>0</th>\n",
       "      <td>2.0</td>\n",
       "      <td>1</td>\n",
       "      <td>38.5</td>\n",
       "      <td>66.0</td>\n",
       "      <td>28.0</td>\n",
       "      <td>3.0</td>\n",
       "      <td>5.0</td>\n",
       "      <td>2.0</td>\n",
       "    </tr>\n",
       "    <tr>\n",
       "      <th>1</th>\n",
       "      <td>1.0</td>\n",
       "      <td>1</td>\n",
       "      <td>39.2</td>\n",
       "      <td>88.0</td>\n",
       "      <td>20.0</td>\n",
       "      <td>NaN</td>\n",
       "      <td>3.0</td>\n",
       "      <td>3.0</td>\n",
       "    </tr>\n",
       "    <tr>\n",
       "      <th>2</th>\n",
       "      <td>2.0</td>\n",
       "      <td>1</td>\n",
       "      <td>38.3</td>\n",
       "      <td>40.0</td>\n",
       "      <td>24.0</td>\n",
       "      <td>1.0</td>\n",
       "      <td>3.0</td>\n",
       "      <td>1.0</td>\n",
       "    </tr>\n",
       "    <tr>\n",
       "      <th>3</th>\n",
       "      <td>1.0</td>\n",
       "      <td>2</td>\n",
       "      <td>39.1</td>\n",
       "      <td>164.0</td>\n",
       "      <td>84.0</td>\n",
       "      <td>4.0</td>\n",
       "      <td>2.0</td>\n",
       "      <td>2.0</td>\n",
       "    </tr>\n",
       "    <tr>\n",
       "      <th>4</th>\n",
       "      <td>2.0</td>\n",
       "      <td>1</td>\n",
       "      <td>37.3</td>\n",
       "      <td>104.0</td>\n",
       "      <td>35.0</td>\n",
       "      <td>NaN</td>\n",
       "      <td>NaN</td>\n",
       "      <td>2.0</td>\n",
       "    </tr>\n",
       "    <tr>\n",
       "      <th>...</th>\n",
       "      <td>...</td>\n",
       "      <td>...</td>\n",
       "      <td>...</td>\n",
       "      <td>...</td>\n",
       "      <td>...</td>\n",
       "      <td>...</td>\n",
       "      <td>...</td>\n",
       "      <td>...</td>\n",
       "    </tr>\n",
       "    <tr>\n",
       "      <th>295</th>\n",
       "      <td>1.0</td>\n",
       "      <td>1</td>\n",
       "      <td>NaN</td>\n",
       "      <td>120.0</td>\n",
       "      <td>70.0</td>\n",
       "      <td>4.0</td>\n",
       "      <td>2.0</td>\n",
       "      <td>3.0</td>\n",
       "    </tr>\n",
       "    <tr>\n",
       "      <th>296</th>\n",
       "      <td>2.0</td>\n",
       "      <td>1</td>\n",
       "      <td>37.2</td>\n",
       "      <td>72.0</td>\n",
       "      <td>24.0</td>\n",
       "      <td>3.0</td>\n",
       "      <td>4.0</td>\n",
       "      <td>3.0</td>\n",
       "    </tr>\n",
       "    <tr>\n",
       "      <th>297</th>\n",
       "      <td>1.0</td>\n",
       "      <td>1</td>\n",
       "      <td>37.5</td>\n",
       "      <td>72.0</td>\n",
       "      <td>30.0</td>\n",
       "      <td>4.0</td>\n",
       "      <td>4.0</td>\n",
       "      <td>2.0</td>\n",
       "    </tr>\n",
       "    <tr>\n",
       "      <th>298</th>\n",
       "      <td>1.0</td>\n",
       "      <td>1</td>\n",
       "      <td>36.5</td>\n",
       "      <td>100.0</td>\n",
       "      <td>24.0</td>\n",
       "      <td>3.0</td>\n",
       "      <td>3.0</td>\n",
       "      <td>1.0</td>\n",
       "    </tr>\n",
       "    <tr>\n",
       "      <th>299</th>\n",
       "      <td>1.0</td>\n",
       "      <td>1</td>\n",
       "      <td>37.2</td>\n",
       "      <td>40.0</td>\n",
       "      <td>20.0</td>\n",
       "      <td>NaN</td>\n",
       "      <td>NaN</td>\n",
       "      <td>3.0</td>\n",
       "    </tr>\n",
       "  </tbody>\n",
       "</table>\n",
       "<p>300 rows × 8 columns</p>\n",
       "</div>"
      ],
      "text/plain": [
       "     surgery?  Age  rectal temperature  pulse  respiratory rate  \\\n",
       "0         2.0    1                38.5   66.0              28.0   \n",
       "1         1.0    1                39.2   88.0              20.0   \n",
       "2         2.0    1                38.3   40.0              24.0   \n",
       "3         1.0    2                39.1  164.0              84.0   \n",
       "4         2.0    1                37.3  104.0              35.0   \n",
       "..        ...  ...                 ...    ...               ...   \n",
       "295       1.0    1                 NaN  120.0              70.0   \n",
       "296       2.0    1                37.2   72.0              24.0   \n",
       "297       1.0    1                37.5   72.0              30.0   \n",
       "298       1.0    1                36.5  100.0              24.0   \n",
       "299       1.0    1                37.2   40.0              20.0   \n",
       "\n",
       "     temperature of extremities  pain  outcome  \n",
       "0                           3.0   5.0      2.0  \n",
       "1                           NaN   3.0      3.0  \n",
       "2                           1.0   3.0      1.0  \n",
       "3                           4.0   2.0      2.0  \n",
       "4                           NaN   NaN      2.0  \n",
       "..                          ...   ...      ...  \n",
       "295                         4.0   2.0      3.0  \n",
       "296                         3.0   4.0      3.0  \n",
       "297                         4.0   4.0      2.0  \n",
       "298                         3.0   3.0      1.0  \n",
       "299                         NaN   NaN      3.0  \n",
       "\n",
       "[300 rows x 8 columns]"
      ]
     },
     "execution_count": 197,
     "metadata": {},
     "output_type": "execute_result"
    }
   ],
   "source": [
    "#В Age в описании может принимать 1 или 2 . 9 заменим на 1\n",
    "df3['Age'] = df3.Age.apply(lambda x: 2 if x == 9 else x)\n",
    "df3"
   ]
  },
  {
   "cell_type": "code",
   "execution_count": 198,
   "metadata": {},
   "outputs": [],
   "source": [
    "#уберем пропуски для поиска выбросов rectal temperature\n",
    "df4=df3[df3['rectal temperature'].notna()]['rectal temperature']"
   ]
  },
  {
   "cell_type": "code",
   "execution_count": 199,
   "metadata": {},
   "outputs": [
    {
     "name": "stdout",
     "output_type": "stream",
     "text": [
      "выбросы по rectal temperature\n"
     ]
    },
    {
     "name": "stderr",
     "output_type": "stream",
     "text": [
      "C:\\Users\\EA5B~1\\AppData\\Local\\Temp/ipykernel_13836/1338620336.py:8: FutureWarning: Boolean inputs to the `inclusive` argument are deprecated infavour of `both` or `neither`.\n",
      "  df4[~df4.between(lower_bound, upper_bound, inclusive=True)]\n"
     ]
    },
    {
     "data": {
      "text/plain": [
       "20     39.9\n",
       "44     35.4\n",
       "54     40.3\n",
       "75     39.7\n",
       "80     36.4\n",
       "91     40.3\n",
       "99     39.6\n",
       "118    36.5\n",
       "141    36.0\n",
       "238    36.1\n",
       "251    36.6\n",
       "259    40.8\n",
       "281    40.0\n",
       "298    36.5\n",
       "Name: rectal temperature, dtype: float64"
      ]
     },
     "execution_count": 199,
     "metadata": {},
     "output_type": "execute_result"
    }
   ],
   "source": [
    "q1 = df4.quantile(0.25)\n",
    "q3 = df4.quantile(0.75)\n",
    "iqr = q3 - q1\n",
    "lower_bound = q1 - (1.5 * iqr) \n",
    "upper_bound = q3 + (1.5 * iqr)\n",
    "#remove_outliers = df4.between(lower_bound, upper_bound, inclusive=True)\n",
    "print ('выбросы по rectal temperature')\n",
    "df4[~df4.between(lower_bound, upper_bound, inclusive=True)]"
   ]
  },
  {
   "cell_type": "code",
   "execution_count": 200,
   "metadata": {},
   "outputs": [
    {
     "name": "stdout",
     "output_type": "stream",
     "text": [
      "выбросы pulse\n"
     ]
    },
    {
     "name": "stderr",
     "output_type": "stream",
     "text": [
      "C:\\Users\\EA5B~1\\AppData\\Local\\Temp/ipykernel_13836/1717629229.py:10: FutureWarning: Boolean inputs to the `inclusive` argument are deprecated infavour of `both` or `neither`.\n",
      "  df5[~df5.between(lower_bound, upper_bound, inclusive=True)]\n"
     ]
    },
    {
     "data": {
      "text/plain": [
       "3      164.0\n",
       "41     150.0\n",
       "55     160.0\n",
       "255    184.0\n",
       "275    150.0\n",
       "Name: pulse, dtype: float64"
      ]
     },
     "execution_count": 200,
     "metadata": {},
     "output_type": "execute_result"
    }
   ],
   "source": [
    "#уберем пропуски для поиска выбросов pulse\n",
    "df5=df3[df3['pulse'].notna()]['pulse']\n",
    "q1 = df5.quantile(0.25)\n",
    "q3 = df5.quantile(0.75)\n",
    "iqr = q3 - q1\n",
    "lower_bound = q1 - (1.5 * iqr) \n",
    "upper_bound = q3 + (1.5 * iqr)\n",
    "#remove_outliers = df4.between(lower_bound, upper_bound, inclusive=True)\n",
    "print ('выбросы pulse')\n",
    "df5[~df5.between(lower_bound, upper_bound, inclusive=True)]"
   ]
  },
  {
   "cell_type": "code",
   "execution_count": 201,
   "metadata": {},
   "outputs": [
    {
     "name": "stdout",
     "output_type": "stream",
     "text": [
      "выбросы respiratory rate\n"
     ]
    },
    {
     "name": "stderr",
     "output_type": "stream",
     "text": [
      "C:\\Users\\EA5B~1\\AppData\\Local\\Temp/ipykernel_13836/2065138276.py:10: FutureWarning: Boolean inputs to the `inclusive` argument are deprecated infavour of `both` or `neither`.\n",
      "  df6[~df6.between(lower_bound, upper_bound, inclusive=True)]\n"
     ]
    },
    {
     "data": {
      "text/plain": [
       "3      84.0\n",
       "39     96.0\n",
       "41     72.0\n",
       "82     80.0\n",
       "84     80.0\n",
       "103    68.0\n",
       "106    96.0\n",
       "120    66.0\n",
       "125    68.0\n",
       "186    90.0\n",
       "208    80.0\n",
       "229    70.0\n",
       "244    88.0\n",
       "255    84.0\n",
       "265    68.0\n",
       "269    90.0\n",
       "295    70.0\n",
       "Name: respiratory rate, dtype: float64"
      ]
     },
     "execution_count": 201,
     "metadata": {},
     "output_type": "execute_result"
    }
   ],
   "source": [
    "#уберем пропуски для поиска выбросов respiratory rate\n",
    "df6=df3[df3['respiratory rate'].notna()]['respiratory rate']\n",
    "q1 = df6.quantile(0.25)\n",
    "q3 = df6.quantile(0.75)\n",
    "iqr = q3 - q1\n",
    "lower_bound = q1 - (1.5 * iqr) \n",
    "upper_bound = q3 + (1.5 * iqr)\n",
    "#remove_outliers = df4.between(lower_bound, upper_bound, inclusive=True)\n",
    "print ('выбросы respiratory rate')\n",
    "df6[~df6.between(lower_bound, upper_bound, inclusive=True)]"
   ]
  },
  {
   "cell_type": "code",
   "execution_count": 202,
   "metadata": {},
   "outputs": [
    {
     "name": "stdout",
     "output_type": "stream",
     "text": [
      "выбросы temperature of extremities\n"
     ]
    },
    {
     "name": "stderr",
     "output_type": "stream",
     "text": [
      "C:\\Users\\EA5B~1\\AppData\\Local\\Temp/ipykernel_13836/2374563815.py:10: FutureWarning: Boolean inputs to the `inclusive` argument are deprecated infavour of `both` or `neither`.\n",
      "  df7[~df7.between(lower_bound, upper_bound, inclusive=True)]\n"
     ]
    },
    {
     "data": {
      "text/plain": [
       "Series([], Name: temperature of extremities, dtype: float64)"
      ]
     },
     "execution_count": 202,
     "metadata": {},
     "output_type": "execute_result"
    }
   ],
   "source": [
    "#уберем пропуски для поиска выбросов temperature of extremities\n",
    "df7=df3[df3['temperature of extremities'].notna()]['temperature of extremities']\n",
    "q1 = df7.quantile(0.25)\n",
    "q3 = df7.quantile(0.75)\n",
    "iqr = q3 - q1\n",
    "lower_bound = q1 - (1.5 * iqr) \n",
    "upper_bound = q3 + (1.5 * iqr)\n",
    "#remove_outliers = df4.between(lower_bound, upper_bound, inclusive=True)\n",
    "print ('выбросы temperature of extremities')\n",
    "df7[~df7.between(lower_bound, upper_bound, inclusive=True)]"
   ]
  },
  {
   "cell_type": "code",
   "execution_count": 203,
   "metadata": {},
   "outputs": [
    {
     "name": "stdout",
     "output_type": "stream",
     "text": [
      "выбросы pain\n"
     ]
    },
    {
     "name": "stderr",
     "output_type": "stream",
     "text": [
      "C:\\Users\\EA5B~1\\AppData\\Local\\Temp/ipykernel_13836/2557588300.py:10: FutureWarning: Boolean inputs to the `inclusive` argument are deprecated infavour of `both` or `neither`.\n",
      "  df8[~df8.between(lower_bound, upper_bound, inclusive=True)]\n"
     ]
    },
    {
     "data": {
      "text/plain": [
       "Series([], Name: pain, dtype: float64)"
      ]
     },
     "execution_count": 203,
     "metadata": {},
     "output_type": "execute_result"
    }
   ],
   "source": [
    "#уберем пропуски для поиска выбросов temperature of extremities\n",
    "df8=df3[df3['pain'].notna()]['pain']\n",
    "q1 = df8.quantile(0.25)\n",
    "q3 = df8.quantile(0.75)\n",
    "iqr = q3 - q1\n",
    "lower_bound = q1 - (1.5 * iqr) \n",
    "upper_bound = q3 + (1.5 * iqr)\n",
    "#remove_outliers = df4.between(lower_bound, upper_bound, inclusive=True)\n",
    "print ('выбросы pain')\n",
    "df8[~df8.between(lower_bound, upper_bound, inclusive=True)]"
   ]
  },
  {
   "cell_type": "code",
   "execution_count": 204,
   "metadata": {},
   "outputs": [
    {
     "name": "stdout",
     "output_type": "stream",
     "text": [
      "outcome\n"
     ]
    },
    {
     "name": "stderr",
     "output_type": "stream",
     "text": [
      "C:\\Users\\EA5B~1\\AppData\\Local\\Temp/ipykernel_13836/3898251404.py:10: FutureWarning: Boolean inputs to the `inclusive` argument are deprecated infavour of `both` or `neither`.\n",
      "  df9[~df9.between(lower_bound, upper_bound, inclusive=True)]\n"
     ]
    },
    {
     "data": {
      "text/plain": [
       "Series([], Name: outcome, dtype: float64)"
      ]
     },
     "execution_count": 204,
     "metadata": {},
     "output_type": "execute_result"
    }
   ],
   "source": [
    "#уберем пропуски для поиска выбросов temperature of extremities\n",
    "df9=df3[df3['outcome'].notna()]['outcome']\n",
    "q1 = df9.quantile(0.25)\n",
    "q3 = df9.quantile(0.75)\n",
    "iqr = q3 - q1\n",
    "lower_bound = q1 - (1.5 * iqr) \n",
    "upper_bound = q3 + (1.5 * iqr)\n",
    "#remove_outliers = df4.between(lower_bound, upper_bound, inclusive=True)\n",
    "print ('outcome')\n",
    "df9[~df9.between(lower_bound, upper_bound, inclusive=True)]"
   ]
  },
  {
   "cell_type": "code",
   "execution_count": 51,
   "metadata": {},
   "outputs": [
    {
     "ename": "SyntaxError",
     "evalue": "invalid syntax (Temp/ipykernel_11952/1202360733.py, line 4)",
     "output_type": "error",
     "traceback": [
      "\u001b[1;36m  File \u001b[1;32m\"C:\\Users\\EA5B~1\\AppData\\Local\\Temp/ipykernel_11952/1202360733.py\"\u001b[1;36m, line \u001b[1;32m4\u001b[0m\n\u001b[1;33m    Сформировать датафрейм, в котором пропуски будут отсутствовать.\u001b[0m\n\u001b[1;37m                 ^\u001b[0m\n\u001b[1;31mSyntaxError\u001b[0m\u001b[1;31m:\u001b[0m invalid syntax\n"
     ]
    }
   ],
   "source": [
    "#3\n",
    "#Рассчитать количество пропусков для всех выбранных столбцов. \n",
    "#Принять и обосновать решение о методе заполнения пропусков по каждому столбцу на основе рассчитанных статистик и возможной взаимосвязи значений в них.\n",
    "#Сформировать датафрейм, в котором пропуски будут отсутствовать.\n",
    "#для категориальных признаков подходит мода, для количественных признаков можно рассматривать среднее, медиану или мода."
   ]
  },
  {
   "cell_type": "code",
   "execution_count": 205,
   "metadata": {},
   "outputs": [
    {
     "name": "stdout",
     "output_type": "stream",
     "text": [
      "<class 'pandas.core.frame.DataFrame'>\n",
      "RangeIndex: 300 entries, 0 to 299\n",
      "Data columns (total 8 columns):\n",
      " #   Column                      Non-Null Count  Dtype  \n",
      "---  ------                      --------------  -----  \n",
      " 0   surgery?                    299 non-null    float64\n",
      " 1   Age                         300 non-null    int64  \n",
      " 2   rectal temperature          240 non-null    float64\n",
      " 3   pulse                       276 non-null    float64\n",
      " 4   respiratory rate            242 non-null    float64\n",
      " 5   temperature of extremities  244 non-null    float64\n",
      " 6   pain                        245 non-null    float64\n",
      " 7   outcome                     299 non-null    float64\n",
      "dtypes: float64(7), int64(1)\n",
      "memory usage: 18.9 KB\n"
     ]
    }
   ],
   "source": [
    "df3.info()"
   ]
  },
  {
   "cell_type": "code",
   "execution_count": 206,
   "metadata": {},
   "outputs": [
    {
     "data": {
      "text/plain": [
       "surgery?                       1\n",
       "Age                            0\n",
       "rectal temperature            60\n",
       "pulse                         24\n",
       "respiratory rate              58\n",
       "temperature of extremities    56\n",
       "pain                          55\n",
       "outcome                        1\n",
       "dtype: int64"
      ]
     },
     "execution_count": 206,
     "metadata": {},
     "output_type": "execute_result"
    }
   ],
   "source": [
    "#Рассчитать количество пропусков для всех выбранных столбцов. \n",
    "df3.isna().sum()"
   ]
  },
  {
   "cell_type": "code",
   "execution_count": 207,
   "metadata": {},
   "outputs": [
    {
     "data": {
      "text/plain": [
       "surgery?                      0.003333\n",
       "Age                           0.000000\n",
       "rectal temperature            0.200000\n",
       "pulse                         0.080000\n",
       "respiratory rate              0.193333\n",
       "temperature of extremities    0.186667\n",
       "pain                          0.183333\n",
       "outcome                       0.003333\n",
       "dtype: float64"
      ]
     },
     "execution_count": 207,
     "metadata": {},
     "output_type": "execute_result"
    }
   ],
   "source": [
    "df4=df3\n",
    "df4.isna().mean()"
   ]
  },
  {
   "cell_type": "code",
   "execution_count": 208,
   "metadata": {},
   "outputs": [
    {
     "ename": "SyntaxError",
     "evalue": "invalid syntax (Temp/ipykernel_13836/2279463277.py, line 1)",
     "output_type": "error",
     "traceback": [
      "\u001b[1;36m  File \u001b[1;32m\"C:\\Users\\EA5B~1\\AppData\\Local\\Temp/ipykernel_13836/2279463277.py\"\u001b[1;36m, line \u001b[1;32m1\u001b[0m\n\u001b[1;33m    Категориальные признаки выбросы в них модой заменим\u001b[0m\n\u001b[1;37m                   ^\u001b[0m\n\u001b[1;31mSyntaxError\u001b[0m\u001b[1;31m:\u001b[0m invalid syntax\n"
     ]
    }
   ],
   "source": [
    "Категориальные признаки выбросы в них модой заменим"
   ]
  },
  {
   "cell_type": "code",
   "execution_count": 209,
   "metadata": {},
   "outputs": [
    {
     "name": "stdout",
     "output_type": "stream",
     "text": [
      "0\n",
      "[2. 1.]\n"
     ]
    }
   ],
   "source": [
    "df4['surgery?'].fillna(df4['surgery?'].mode()[0], inplace=True)\n",
    "print(df4['surgery?'].isna().sum())\n",
    "print(df4['surgery?'].unique())"
   ]
  },
  {
   "cell_type": "code",
   "execution_count": 210,
   "metadata": {},
   "outputs": [
    {
     "name": "stdout",
     "output_type": "stream",
     "text": [
      "0\n",
      "[2. 3. 1.]\n"
     ]
    }
   ],
   "source": [
    "df4['outcome'].fillna(df4['outcome'].mode()[0], inplace=True)\n",
    "print(df4['outcome'].isna().sum())\n",
    "print(df4['outcome'].unique())"
   ]
  },
  {
   "cell_type": "code",
   "execution_count": 211,
   "metadata": {},
   "outputs": [
    {
     "name": "stdout",
     "output_type": "stream",
     "text": [
      "0\n",
      "[5. 3. 2. 4. 1.]\n"
     ]
    }
   ],
   "source": [
    "df4['pain'].fillna(df4['pain'].mode()[0], inplace=True)\n",
    "print(df4['pain'].isna().sum())\n",
    "print(df4['pain'].unique())"
   ]
  },
  {
   "cell_type": "markdown",
   "metadata": {},
   "source": [
    "rectal temperature"
   ]
  },
  {
   "cell_type": "code",
   "execution_count": 212,
   "metadata": {},
   "outputs": [
    {
     "name": "stdout",
     "output_type": "stream",
     "text": [
      "38.16791666666669\n",
      "38.2\n",
      "38.0\n",
      "0.7322886641121578\n",
      "0.5362466875871686\n"
     ]
    }
   ],
   "source": [
    "print(df4['rectal temperature'].mean())\n",
    "print(df4['rectal temperature'].median())\n",
    "print(df4['rectal temperature'].mode()[0])\n",
    "\n",
    "print(df4['rectal temperature'].std())\n",
    "print(df4['rectal temperature'].var())"
   ]
  },
  {
   "cell_type": "code",
   "execution_count": 213,
   "metadata": {},
   "outputs": [
    {
     "name": "stdout",
     "output_type": "stream",
     "text": [
      "38.16705882352942\n",
      "38.1\n",
      "38.0\n",
      "0.7241217059583475\n",
      "0.5243522450400274\n"
     ]
    }
   ],
   "source": [
    "# посмотрим насколько исказились статистики, если мы удалим все строки с пропусками\n",
    "print(df4.dropna()['rectal temperature'].mean())\n",
    "print(df4.dropna()['rectal temperature'].median())\n",
    "print(df4.dropna()['rectal temperature'].mode()[0])\n",
    "\n",
    "print(df4.dropna()['rectal temperature'].std())\n",
    "print(df4.dropna()['rectal temperature'].var())"
   ]
  },
  {
   "cell_type": "code",
   "execution_count": 214,
   "metadata": {},
   "outputs": [
    {
     "ename": "SyntaxError",
     "evalue": "invalid syntax (Temp/ipykernel_13836/2472382890.py, line 1)",
     "output_type": "error",
     "traceback": [
      "\u001b[1;36m  File \u001b[1;32m\"C:\\Users\\EA5B~1\\AppData\\Local\\Temp/ipykernel_13836/2472382890.py\"\u001b[1;36m, line \u001b[1;32m1\u001b[0m\n\u001b[1;33m    заполним средним пропуски\u001b[0m\n\u001b[1;37m             ^\u001b[0m\n\u001b[1;31mSyntaxError\u001b[0m\u001b[1;31m:\u001b[0m invalid syntax\n"
     ]
    }
   ],
   "source": [
    "заполним средним пропуски"
   ]
  },
  {
   "cell_type": "code",
   "execution_count": 215,
   "metadata": {},
   "outputs": [
    {
     "name": "stdout",
     "output_type": "stream",
     "text": [
      "count    240.000000\n",
      "mean      38.167917\n",
      "std        0.732289\n",
      "min       35.400000\n",
      "25%       37.800000\n",
      "50%       38.200000\n",
      "75%       38.500000\n",
      "max       40.800000\n",
      "Name: rectal temperature, dtype: float64\n",
      "-----------------------------------\n",
      "count    300.000000\n",
      "mean      38.167917\n",
      "std        0.654705\n",
      "min       35.400000\n",
      "25%       37.900000\n",
      "50%       38.167917\n",
      "75%       38.500000\n",
      "max       40.800000\n",
      "Name: rectal temperature, dtype: float64\n"
     ]
    }
   ],
   "source": [
    "fill_mean = df4.copy()\n",
    "fill_mean['rectal temperature'] = fill_mean['rectal temperature'].fillna(df4['rectal temperature'].mean())\n",
    "print(df4['rectal temperature'].describe())\n",
    "print('-----------------------------------')\n",
    "print(fill_mean['rectal temperature'].describe())"
   ]
  },
  {
   "cell_type": "markdown",
   "metadata": {},
   "source": [
    "pulse"
   ]
  },
  {
   "cell_type": "code",
   "execution_count": 216,
   "metadata": {},
   "outputs": [
    {
     "name": "stdout",
     "output_type": "stream",
     "text": [
      "71.91304347826087\n",
      "64.0\n",
      "48.0\n",
      "28.630556660735003\n",
      "819.7087747035575\n",
      "посмотрим насколько исказились статистики, если мы удалим все строки с пропусками\n",
      "70.52352941176471\n",
      "60.0\n",
      "48.0\n",
      "29.187458387371016\n",
      "851.9077271145146\n"
     ]
    }
   ],
   "source": [
    "print(df4['pulse'].mean())\n",
    "print(df4['pulse'].median())\n",
    "print(df4['pulse'].mode()[0])\n",
    "\n",
    "print(df4['pulse'].std())\n",
    "print(df4['pulse'].var())\n",
    "\n",
    "print ('посмотрим насколько исказились статистики, если мы удалим все строки с пропусками')\n",
    "\n",
    "print(df4.dropna()['pulse'].mean())\n",
    "print(df4.dropna()['pulse'].median())\n",
    "print(df4.dropna()['pulse'].mode()[0])\n",
    "\n",
    "print(df4.dropna()['pulse'].std())\n",
    "print(df4.dropna()['pulse'].var())"
   ]
  },
  {
   "cell_type": "code",
   "execution_count": 217,
   "metadata": {},
   "outputs": [
    {
     "name": "stdout",
     "output_type": "stream",
     "text": [
      "surgery?  Age\n",
      "1.0       1      3.0\n",
      "          2      3.0\n",
      "2.0       1      2.0\n",
      "          2      1.0\n",
      "Name: temperature of extremities, dtype: float64\n",
      "Age  outcome\n",
      "1    1.0        2.0\n",
      "     2.0        3.0\n",
      "     3.0        3.0\n",
      "2    1.0        1.0\n",
      "     2.0        3.0\n",
      "     3.0        3.0\n",
      "Name: temperature of extremities, dtype: float64\n",
      "outcome  surgery?\n",
      "1.0      1.0         2.5\n",
      "         2.0         2.0\n",
      "2.0      1.0         3.0\n",
      "         2.0         3.0\n",
      "3.0      1.0         3.0\n",
      "         2.0         3.0\n",
      "Name: temperature of extremities, dtype: float64\n",
      "pain  Age\n",
      "1.0   1      2.0\n",
      "      2      1.0\n",
      "2.0   1      3.0\n",
      "      2      3.0\n",
      "3.0   1      2.0\n",
      "      2      3.0\n",
      "4.0   1      3.0\n",
      "      2      2.0\n",
      "5.0   1      3.0\n",
      "      2      1.0\n",
      "Name: temperature of extremities, dtype: float64\n"
     ]
    }
   ],
   "source": [
    "print(df4.groupby(['surgery?', 'Age'])['temperature of extremities'].median())# лучший вариант\n",
    "print(df4.groupby(['Age','outcome'])['temperature of extremities'].median())\n",
    "print(df4.groupby(['outcome', 'surgery?'])['temperature of extremities'].median())\n",
    "print(df4.groupby(['pain', 'Age'])['temperature of extremities'].median())"
   ]
  },
  {
   "cell_type": "code",
   "execution_count": 218,
   "metadata": {},
   "outputs": [
    {
     "name": "stdout",
     "output_type": "stream",
     "text": [
      "surgery?  Age\n",
      "1.0       1      38.1\n",
      "          2      38.6\n",
      "2.0       1      38.2\n",
      "          2      38.6\n",
      "Name: rectal temperature, dtype: float64\n",
      "outcome  Age\n",
      "1.0      1      38.2\n",
      "         2      38.4\n",
      "2.0      1      38.0\n",
      "         2      38.8\n",
      "3.0      1      38.0\n",
      "         2      39.7\n",
      "Name: rectal temperature, dtype: float64\n",
      "outcome  surgery?\n",
      "1.0      1.0         38.20\n",
      "         2.0         38.25\n",
      "2.0      1.0         38.10\n",
      "         2.0         38.00\n",
      "3.0      1.0         38.00\n",
      "         2.0         38.20\n",
      "Name: rectal temperature, dtype: float64\n",
      "pain  Age\n",
      "1.0   1      38.20\n",
      "      2      38.00\n",
      "2.0   1      38.30\n",
      "      2      38.80\n",
      "3.0   1      38.05\n",
      "      2      38.60\n",
      "4.0   1      38.00\n",
      "      2      38.80\n",
      "5.0   1      38.00\n",
      "      2      38.30\n",
      "Name: rectal temperature, dtype: float64\n"
     ]
    }
   ],
   "source": [
    "print(df4.groupby(['surgery?', 'Age'])['rectal temperature'].median())\n",
    "print(df4.groupby(['outcome', 'Age'])['rectal temperature'].median())\n",
    "print(df4.groupby(['outcome', 'surgery?'])['rectal temperature'].median())\n",
    "print(df4.groupby(['pain', 'Age'])['rectal temperature'].median())\n",
    "#одинаковая зависимость поставим медиану"
   ]
  },
  {
   "cell_type": "code",
   "execution_count": 219,
   "metadata": {},
   "outputs": [
    {
     "name": "stdout",
     "output_type": "stream",
     "text": [
      "surgery?  Age\n",
      "1.0       1       66.0\n",
      "          2      129.0\n",
      "2.0       1       54.0\n",
      "          2       91.0\n",
      "Name: pulse, dtype: float64\n",
      "outcome  Age\n",
      "1.0      1       52.0\n",
      "         2      120.0\n",
      "2.0      1       82.0\n",
      "         2      141.0\n",
      "3.0      1       81.0\n",
      "         2      100.0\n",
      "Name: pulse, dtype: float64\n",
      "outcome  surgery?\n",
      "1.0      1.0         60.0\n",
      "         2.0         52.0\n",
      "2.0      1.0         84.0\n",
      "         2.0         92.0\n",
      "3.0      1.0         80.0\n",
      "         2.0         85.0\n",
      "Name: pulse, dtype: float64\n",
      "pain  Age\n",
      "1.0   1       48.0\n",
      "      2       92.0\n",
      "2.0   1       72.0\n",
      "      2      124.0\n",
      "3.0   1       58.0\n",
      "      2      120.0\n",
      "4.0   1       77.5\n",
      "      2      128.0\n",
      "5.0   1       88.0\n",
      "      2      136.0\n",
      "Name: pulse, dtype: float64\n"
     ]
    }
   ],
   "source": [
    "print(df4.groupby(['surgery?', 'Age'])['pulse'].median())\n",
    "print(df4.groupby(['outcome', 'Age'])['pulse'].median())\n",
    "print(df4.groupby(['outcome', 'surgery?'])['pulse'].median())\n",
    "print(df4.groupby(['pain', 'Age'])['pulse'].median()) #лучший вариант"
   ]
  },
  {
   "cell_type": "code",
   "execution_count": 220,
   "metadata": {},
   "outputs": [
    {
     "name": "stdout",
     "output_type": "stream",
     "text": [
      "surgery?  Age\n",
      "1.0       1      24.0\n",
      "          2      60.0\n",
      "2.0       1      24.0\n",
      "          2      30.0\n",
      "Name: respiratory rate, dtype: float64\n",
      "outcome  Age\n",
      "1.0      1      24.0\n",
      "         2      64.0\n",
      "2.0      1      28.0\n",
      "         2      44.0\n",
      "3.0      1      24.0\n",
      "         2       NaN\n",
      "Name: respiratory rate, dtype: float64\n",
      "outcome  surgery?\n",
      "1.0      1.0         28.0\n",
      "         2.0         24.0\n",
      "2.0      1.0         30.0\n",
      "         2.0         30.0\n",
      "3.0      1.0         32.0\n",
      "         2.0         20.0\n",
      "Name: respiratory rate, dtype: float64\n",
      "pain  Age\n",
      "1.0   1      20.0\n",
      "      2      28.0\n",
      "2.0   1      28.0\n",
      "      2      72.0\n",
      "3.0   1      24.0\n",
      "      2      54.0\n",
      "4.0   1      27.5\n",
      "      2      44.0\n",
      "5.0   1      28.0\n",
      "      2      49.0\n",
      "Name: respiratory rate, dtype: float64\n"
     ]
    }
   ],
   "source": [
    "print(df4.groupby(['surgery?', 'Age'])['respiratory rate'].median())\n",
    "print(df4.groupby(['outcome', 'Age'])['respiratory rate'].median()) #лучший вариант\n",
    "print(df4.groupby(['outcome', 'surgery?'])['respiratory rate'].median())\n",
    "print(df4.groupby(['pain', 'Age'])['respiratory rate'].median())"
   ]
  },
  {
   "cell_type": "code",
   "execution_count": 221,
   "metadata": {},
   "outputs": [],
   "source": [
    "fill_median_by_groups = df4\n",
    "fill_median_by_groups['temperature of extremities'].fillna(df4.groupby(['surgery?', 'Age'])['temperature of extremities'].transform('median'), inplace=True)\n",
    "fill_median_by_groups['pulse'].fillna(df4.groupby(['pain', 'Age'])['pulse'].transform('median'), inplace=True)\n",
    "fill_median_by_groups['respiratory rate'].fillna(df4.groupby(['outcome', 'Age'])['respiratory rate'].transform('median'), inplace=True)\n",
    "fill_median_by_groups['rectal temperature'].fillna(fill_median_by_groups['rectal temperature'].median(), inplace=True)"
   ]
  },
  {
   "cell_type": "code",
   "execution_count": 222,
   "metadata": {},
   "outputs": [],
   "source": [
    "fill_median_by_groups['rectal temperature'].fillna(fill_median_by_groups['rectal temperature'].median(), inplace=True)"
   ]
  },
  {
   "cell_type": "code",
   "execution_count": 223,
   "metadata": {},
   "outputs": [
    {
     "data": {
      "text/html": [
       "<div>\n",
       "<style scoped>\n",
       "    .dataframe tbody tr th:only-of-type {\n",
       "        vertical-align: middle;\n",
       "    }\n",
       "\n",
       "    .dataframe tbody tr th {\n",
       "        vertical-align: top;\n",
       "    }\n",
       "\n",
       "    .dataframe thead th {\n",
       "        text-align: right;\n",
       "    }\n",
       "</style>\n",
       "<table border=\"1\" class=\"dataframe\">\n",
       "  <thead>\n",
       "    <tr style=\"text-align: right;\">\n",
       "      <th></th>\n",
       "      <th>surgery?</th>\n",
       "      <th>Age</th>\n",
       "      <th>rectal temperature</th>\n",
       "      <th>pulse</th>\n",
       "      <th>respiratory rate</th>\n",
       "      <th>temperature of extremities</th>\n",
       "      <th>pain</th>\n",
       "      <th>outcome</th>\n",
       "    </tr>\n",
       "  </thead>\n",
       "  <tbody>\n",
       "    <tr>\n",
       "      <th>0</th>\n",
       "      <td>2.0</td>\n",
       "      <td>1</td>\n",
       "      <td>38.5</td>\n",
       "      <td>66.0</td>\n",
       "      <td>28.0</td>\n",
       "      <td>3.0</td>\n",
       "      <td>5.0</td>\n",
       "      <td>2.0</td>\n",
       "    </tr>\n",
       "    <tr>\n",
       "      <th>1</th>\n",
       "      <td>1.0</td>\n",
       "      <td>1</td>\n",
       "      <td>39.2</td>\n",
       "      <td>88.0</td>\n",
       "      <td>20.0</td>\n",
       "      <td>3.0</td>\n",
       "      <td>3.0</td>\n",
       "      <td>3.0</td>\n",
       "    </tr>\n",
       "    <tr>\n",
       "      <th>2</th>\n",
       "      <td>2.0</td>\n",
       "      <td>1</td>\n",
       "      <td>38.3</td>\n",
       "      <td>40.0</td>\n",
       "      <td>24.0</td>\n",
       "      <td>1.0</td>\n",
       "      <td>3.0</td>\n",
       "      <td>1.0</td>\n",
       "    </tr>\n",
       "    <tr>\n",
       "      <th>3</th>\n",
       "      <td>1.0</td>\n",
       "      <td>2</td>\n",
       "      <td>39.1</td>\n",
       "      <td>164.0</td>\n",
       "      <td>84.0</td>\n",
       "      <td>4.0</td>\n",
       "      <td>2.0</td>\n",
       "      <td>2.0</td>\n",
       "    </tr>\n",
       "    <tr>\n",
       "      <th>4</th>\n",
       "      <td>2.0</td>\n",
       "      <td>1</td>\n",
       "      <td>37.3</td>\n",
       "      <td>104.0</td>\n",
       "      <td>35.0</td>\n",
       "      <td>2.0</td>\n",
       "      <td>3.0</td>\n",
       "      <td>2.0</td>\n",
       "    </tr>\n",
       "    <tr>\n",
       "      <th>...</th>\n",
       "      <td>...</td>\n",
       "      <td>...</td>\n",
       "      <td>...</td>\n",
       "      <td>...</td>\n",
       "      <td>...</td>\n",
       "      <td>...</td>\n",
       "      <td>...</td>\n",
       "      <td>...</td>\n",
       "    </tr>\n",
       "    <tr>\n",
       "      <th>295</th>\n",
       "      <td>1.0</td>\n",
       "      <td>1</td>\n",
       "      <td>38.2</td>\n",
       "      <td>120.0</td>\n",
       "      <td>70.0</td>\n",
       "      <td>4.0</td>\n",
       "      <td>2.0</td>\n",
       "      <td>3.0</td>\n",
       "    </tr>\n",
       "    <tr>\n",
       "      <th>296</th>\n",
       "      <td>2.0</td>\n",
       "      <td>1</td>\n",
       "      <td>37.2</td>\n",
       "      <td>72.0</td>\n",
       "      <td>24.0</td>\n",
       "      <td>3.0</td>\n",
       "      <td>4.0</td>\n",
       "      <td>3.0</td>\n",
       "    </tr>\n",
       "    <tr>\n",
       "      <th>297</th>\n",
       "      <td>1.0</td>\n",
       "      <td>1</td>\n",
       "      <td>37.5</td>\n",
       "      <td>72.0</td>\n",
       "      <td>30.0</td>\n",
       "      <td>4.0</td>\n",
       "      <td>4.0</td>\n",
       "      <td>2.0</td>\n",
       "    </tr>\n",
       "    <tr>\n",
       "      <th>298</th>\n",
       "      <td>1.0</td>\n",
       "      <td>1</td>\n",
       "      <td>36.5</td>\n",
       "      <td>100.0</td>\n",
       "      <td>24.0</td>\n",
       "      <td>3.0</td>\n",
       "      <td>3.0</td>\n",
       "      <td>1.0</td>\n",
       "    </tr>\n",
       "    <tr>\n",
       "      <th>299</th>\n",
       "      <td>1.0</td>\n",
       "      <td>1</td>\n",
       "      <td>37.2</td>\n",
       "      <td>40.0</td>\n",
       "      <td>20.0</td>\n",
       "      <td>3.0</td>\n",
       "      <td>3.0</td>\n",
       "      <td>3.0</td>\n",
       "    </tr>\n",
       "  </tbody>\n",
       "</table>\n",
       "<p>300 rows × 8 columns</p>\n",
       "</div>"
      ],
      "text/plain": [
       "     surgery?  Age  rectal temperature  pulse  respiratory rate  \\\n",
       "0         2.0    1                38.5   66.0              28.0   \n",
       "1         1.0    1                39.2   88.0              20.0   \n",
       "2         2.0    1                38.3   40.0              24.0   \n",
       "3         1.0    2                39.1  164.0              84.0   \n",
       "4         2.0    1                37.3  104.0              35.0   \n",
       "..        ...  ...                 ...    ...               ...   \n",
       "295       1.0    1                38.2  120.0              70.0   \n",
       "296       2.0    1                37.2   72.0              24.0   \n",
       "297       1.0    1                37.5   72.0              30.0   \n",
       "298       1.0    1                36.5  100.0              24.0   \n",
       "299       1.0    1                37.2   40.0              20.0   \n",
       "\n",
       "     temperature of extremities  pain  outcome  \n",
       "0                           3.0   5.0      2.0  \n",
       "1                           3.0   3.0      3.0  \n",
       "2                           1.0   3.0      1.0  \n",
       "3                           4.0   2.0      2.0  \n",
       "4                           2.0   3.0      2.0  \n",
       "..                          ...   ...      ...  \n",
       "295                         4.0   2.0      3.0  \n",
       "296                         3.0   4.0      3.0  \n",
       "297                         4.0   4.0      2.0  \n",
       "298                         3.0   3.0      1.0  \n",
       "299                         3.0   3.0      3.0  \n",
       "\n",
       "[300 rows x 8 columns]"
      ]
     },
     "execution_count": 223,
     "metadata": {},
     "output_type": "execute_result"
    }
   ],
   "source": [
    "fill_median_by_groups"
   ]
  },
  {
   "cell_type": "code",
   "execution_count": 224,
   "metadata": {},
   "outputs": [
    {
     "data": {
      "text/plain": [
       "surgery?                      0\n",
       "Age                           0\n",
       "rectal temperature            0\n",
       "pulse                         0\n",
       "respiratory rate              1\n",
       "temperature of extremities    0\n",
       "pain                          0\n",
       "outcome                       0\n",
       "dtype: int64"
      ]
     },
     "execution_count": 224,
     "metadata": {},
     "output_type": "execute_result"
    }
   ],
   "source": [
    "fill_median_by_groups.isna().sum()"
   ]
  },
  {
   "cell_type": "code",
   "execution_count": 225,
   "metadata": {},
   "outputs": [
    {
     "data": {
      "text/html": [
       "<div>\n",
       "<style scoped>\n",
       "    .dataframe tbody tr th:only-of-type {\n",
       "        vertical-align: middle;\n",
       "    }\n",
       "\n",
       "    .dataframe tbody tr th {\n",
       "        vertical-align: top;\n",
       "    }\n",
       "\n",
       "    .dataframe thead th {\n",
       "        text-align: right;\n",
       "    }\n",
       "</style>\n",
       "<table border=\"1\" class=\"dataframe\">\n",
       "  <thead>\n",
       "    <tr style=\"text-align: right;\">\n",
       "      <th></th>\n",
       "      <th>surgery?</th>\n",
       "      <th>Age</th>\n",
       "      <th>rectal temperature</th>\n",
       "      <th>pulse</th>\n",
       "      <th>respiratory rate</th>\n",
       "      <th>temperature of extremities</th>\n",
       "      <th>pain</th>\n",
       "      <th>outcome</th>\n",
       "    </tr>\n",
       "  </thead>\n",
       "  <tbody>\n",
       "    <tr>\n",
       "      <th>75</th>\n",
       "      <td>1.0</td>\n",
       "      <td>2</td>\n",
       "      <td>39.7</td>\n",
       "      <td>100.0</td>\n",
       "      <td>NaN</td>\n",
       "      <td>3.0</td>\n",
       "      <td>2.0</td>\n",
       "      <td>3.0</td>\n",
       "    </tr>\n",
       "  </tbody>\n",
       "</table>\n",
       "</div>"
      ],
      "text/plain": [
       "    surgery?  Age  rectal temperature  pulse  respiratory rate  \\\n",
       "75       1.0    2                39.7  100.0               NaN   \n",
       "\n",
       "    temperature of extremities  pain  outcome  \n",
       "75                         3.0   2.0      3.0  "
      ]
     },
     "execution_count": 225,
     "metadata": {},
     "output_type": "execute_result"
    }
   ],
   "source": [
    "df1 = fill_median_by_groups[fill_median_by_groups.isna().any(axis=1)]\n",
    "df1"
   ]
  },
  {
   "cell_type": "code",
   "execution_count": 226,
   "metadata": {},
   "outputs": [],
   "source": [
    "fill_median_by_groups['respiratory rate'].fillna(fill_median_by_groups['respiratory rate'].median(), inplace=True)"
   ]
  },
  {
   "cell_type": "code",
   "execution_count": 227,
   "metadata": {},
   "outputs": [
    {
     "data": {
      "text/plain": [
       "surgery?                      0\n",
       "Age                           0\n",
       "rectal temperature            0\n",
       "pulse                         0\n",
       "respiratory rate              0\n",
       "temperature of extremities    0\n",
       "pain                          0\n",
       "outcome                       0\n",
       "dtype: int64"
      ]
     },
     "execution_count": 227,
     "metadata": {},
     "output_type": "execute_result"
    }
   ],
   "source": [
    "fill_median_by_groups.isna().sum()"
   ]
  },
  {
   "cell_type": "code",
   "execution_count": null,
   "metadata": {},
   "outputs": [],
   "source": []
  }
 ],
 "metadata": {
  "kernelspec": {
   "display_name": "Python 3 (ipykernel)",
   "language": "python",
   "name": "python3"
  },
  "language_info": {
   "codemirror_mode": {
    "name": "ipython",
    "version": 3
   },
   "file_extension": ".py",
   "mimetype": "text/x-python",
   "name": "python",
   "nbconvert_exporter": "python",
   "pygments_lexer": "ipython3",
   "version": "3.9.7"
  }
 },
 "nbformat": 4,
 "nbformat_minor": 2
}
